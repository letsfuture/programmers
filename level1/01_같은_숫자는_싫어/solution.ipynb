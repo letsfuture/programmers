{
  "nbformat": 4,
  "nbformat_minor": 0,
  "metadata": {
    "colab": {
      "provenance": [],
      "collapsed_sections": []
    },
    "kernelspec": {
      "name": "python3",
      "display_name": "Python 3"
    },
    "language_info": {
      "name": "python"
    }
  },
  "cells": [
    {
      "cell_type": "code",
      "execution_count": 1,
      "metadata": {
        "id": "HwdThDmEuKKr"
      },
      "outputs": [],
      "source": [
        "def solution(arr):\n",
        "    answer = []\n",
        "    for i in range(len(arr)):\n",
        "        if i == 0:\n",
        "            answer.append(arr[i])\n",
        "        elif arr[i] != arr[i-1]:\n",
        "            answer.append(arr[i])\n",
        "    return answer"
      ]
    },
    {
      "cell_type": "code",
      "source": [
        "print(solution([1,1,3,3,0,1,1]))\n",
        "print(solution([4,4,4,3,3]))"
      ],
      "metadata": {
        "colab": {
          "base_uri": "https://localhost:8080/"
        },
        "id": "End3HDBeumzj",
        "outputId": "6e14a3a2-dd4c-4976-9c0d-2b9ce6777410"
      },
      "execution_count": 2,
      "outputs": [
        {
          "output_type": "stream",
          "name": "stdout",
          "text": [
            "[1, 3, 0, 1]\n",
            "[4, 3]\n"
          ]
        }
      ]
    }
  ]
}